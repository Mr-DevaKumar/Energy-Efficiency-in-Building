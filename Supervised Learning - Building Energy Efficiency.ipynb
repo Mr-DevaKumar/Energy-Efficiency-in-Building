{
 "cells": [
  {
   "cell_type": "markdown",
   "id": "f65a2fc1",
   "metadata": {},
   "source": [
    "# Regression Model for the Building Energy Efficiency"
   ]
  },
  {
   "cell_type": "code",
   "execution_count": 1,
   "id": "20520adb",
   "metadata": {},
   "outputs": [],
   "source": [
    "# import numerical python\n",
    "import numpy as np\n",
    "\n",
    "# import the pandas\n",
    "import pandas as pd\n",
    "\n",
    "# import the seaborn\n",
    "import seaborn as sns\n",
    "\n",
    "# import the matplotlib\n",
    "import matplotlib.pyplot as plt"
   ]
  },
  {
   "cell_type": "code",
   "execution_count": 2,
   "id": "d9d0606a",
   "metadata": {},
   "outputs": [],
   "source": [
    "# Read the data set\n",
    "df_energy = pd.read_csv('energy_efficiency.csv')"
   ]
  },
  {
   "cell_type": "code",
   "execution_count": 4,
   "id": "d0a669ff",
   "metadata": {},
   "outputs": [
    {
     "data": {
      "text/plain": [
       "Index(['relative_compactness', 'surface_area', 'wall_area', 'roof_area',\n",
       "       'overall_height', 'orientation', 'glazing_area',\n",
       "       'glazing_area_distribution', 'heating_load', 'cooling_load'],\n",
       "      dtype='object')"
      ]
     },
     "execution_count": 4,
     "metadata": {},
     "output_type": "execute_result"
    }
   ],
   "source": [
    "# Show the columns in the data set\n",
    "df_energy.columns"
   ]
  },
  {
   "cell_type": "code",
   "execution_count": 5,
   "id": "e12e40ce",
   "metadata": {},
   "outputs": [],
   "source": [
    "# Changing the name of the columns\n",
    "Dictionary = {'relative_compactness':'Relative_Compactness',\n",
    "             'surface_area':'Surface_Area',\n",
    "             'wall_area':'Wall_Area',\n",
    "             'roof_area':'Roof_Area',\n",
    "             'overall_height':'Overall_Height',\n",
    "             'orientation':'Orientation',\n",
    "             'glazing_area':'Glazing_Area',\n",
    "             'glazing_area_distribution':'Glazing_Area_Distribution',\n",
    "             'heating_load':'Heating_Load',\n",
    "             'cooling_load':'Cooling_Load'}"
   ]
  },
  {
   "cell_type": "code",
   "execution_count": 6,
   "id": "5b1592be",
   "metadata": {},
   "outputs": [
    {
     "data": {
      "text/html": [
       "<div>\n",
       "<style scoped>\n",
       "    .dataframe tbody tr th:only-of-type {\n",
       "        vertical-align: middle;\n",
       "    }\n",
       "\n",
       "    .dataframe tbody tr th {\n",
       "        vertical-align: top;\n",
       "    }\n",
       "\n",
       "    .dataframe thead th {\n",
       "        text-align: right;\n",
       "    }\n",
       "</style>\n",
       "<table border=\"1\" class=\"dataframe\">\n",
       "  <thead>\n",
       "    <tr style=\"text-align: right;\">\n",
       "      <th></th>\n",
       "      <th>Relative_Compactness</th>\n",
       "      <th>Surface_Area</th>\n",
       "      <th>Wall_Area</th>\n",
       "      <th>Roof_Area</th>\n",
       "      <th>Overall_Height</th>\n",
       "      <th>Orientation</th>\n",
       "      <th>Glazing_Area</th>\n",
       "      <th>Glazing_Area_Distribution</th>\n",
       "      <th>Heating_Load</th>\n",
       "      <th>Cooling_Load</th>\n",
       "    </tr>\n",
       "  </thead>\n",
       "  <tbody>\n",
       "    <tr>\n",
       "      <th>0</th>\n",
       "      <td>0.98</td>\n",
       "      <td>514.5</td>\n",
       "      <td>294.0</td>\n",
       "      <td>110.25</td>\n",
       "      <td>7.0</td>\n",
       "      <td>2.0</td>\n",
       "      <td>0.0</td>\n",
       "      <td>0.0</td>\n",
       "      <td>15.55</td>\n",
       "      <td>21.33</td>\n",
       "    </tr>\n",
       "    <tr>\n",
       "      <th>1</th>\n",
       "      <td>0.98</td>\n",
       "      <td>514.5</td>\n",
       "      <td>294.0</td>\n",
       "      <td>110.25</td>\n",
       "      <td>7.0</td>\n",
       "      <td>3.0</td>\n",
       "      <td>0.0</td>\n",
       "      <td>0.0</td>\n",
       "      <td>15.55</td>\n",
       "      <td>21.33</td>\n",
       "    </tr>\n",
       "    <tr>\n",
       "      <th>2</th>\n",
       "      <td>0.98</td>\n",
       "      <td>514.5</td>\n",
       "      <td>294.0</td>\n",
       "      <td>110.25</td>\n",
       "      <td>7.0</td>\n",
       "      <td>4.0</td>\n",
       "      <td>0.0</td>\n",
       "      <td>0.0</td>\n",
       "      <td>15.55</td>\n",
       "      <td>21.33</td>\n",
       "    </tr>\n",
       "    <tr>\n",
       "      <th>3</th>\n",
       "      <td>0.98</td>\n",
       "      <td>514.5</td>\n",
       "      <td>294.0</td>\n",
       "      <td>110.25</td>\n",
       "      <td>7.0</td>\n",
       "      <td>5.0</td>\n",
       "      <td>0.0</td>\n",
       "      <td>0.0</td>\n",
       "      <td>15.55</td>\n",
       "      <td>21.33</td>\n",
       "    </tr>\n",
       "    <tr>\n",
       "      <th>4</th>\n",
       "      <td>0.90</td>\n",
       "      <td>563.5</td>\n",
       "      <td>318.5</td>\n",
       "      <td>122.50</td>\n",
       "      <td>7.0</td>\n",
       "      <td>2.0</td>\n",
       "      <td>0.0</td>\n",
       "      <td>0.0</td>\n",
       "      <td>20.84</td>\n",
       "      <td>28.28</td>\n",
       "    </tr>\n",
       "    <tr>\n",
       "      <th>...</th>\n",
       "      <td>...</td>\n",
       "      <td>...</td>\n",
       "      <td>...</td>\n",
       "      <td>...</td>\n",
       "      <td>...</td>\n",
       "      <td>...</td>\n",
       "      <td>...</td>\n",
       "      <td>...</td>\n",
       "      <td>...</td>\n",
       "      <td>...</td>\n",
       "    </tr>\n",
       "    <tr>\n",
       "      <th>763</th>\n",
       "      <td>0.64</td>\n",
       "      <td>784.0</td>\n",
       "      <td>343.0</td>\n",
       "      <td>220.50</td>\n",
       "      <td>3.5</td>\n",
       "      <td>5.0</td>\n",
       "      <td>0.4</td>\n",
       "      <td>5.0</td>\n",
       "      <td>17.88</td>\n",
       "      <td>21.40</td>\n",
       "    </tr>\n",
       "    <tr>\n",
       "      <th>764</th>\n",
       "      <td>0.62</td>\n",
       "      <td>808.5</td>\n",
       "      <td>367.5</td>\n",
       "      <td>220.50</td>\n",
       "      <td>3.5</td>\n",
       "      <td>2.0</td>\n",
       "      <td>0.4</td>\n",
       "      <td>5.0</td>\n",
       "      <td>16.54</td>\n",
       "      <td>16.88</td>\n",
       "    </tr>\n",
       "    <tr>\n",
       "      <th>765</th>\n",
       "      <td>0.62</td>\n",
       "      <td>808.5</td>\n",
       "      <td>367.5</td>\n",
       "      <td>220.50</td>\n",
       "      <td>3.5</td>\n",
       "      <td>3.0</td>\n",
       "      <td>0.4</td>\n",
       "      <td>5.0</td>\n",
       "      <td>16.44</td>\n",
       "      <td>17.11</td>\n",
       "    </tr>\n",
       "    <tr>\n",
       "      <th>766</th>\n",
       "      <td>0.62</td>\n",
       "      <td>808.5</td>\n",
       "      <td>367.5</td>\n",
       "      <td>220.50</td>\n",
       "      <td>3.5</td>\n",
       "      <td>4.0</td>\n",
       "      <td>0.4</td>\n",
       "      <td>5.0</td>\n",
       "      <td>16.48</td>\n",
       "      <td>16.61</td>\n",
       "    </tr>\n",
       "    <tr>\n",
       "      <th>767</th>\n",
       "      <td>0.62</td>\n",
       "      <td>808.5</td>\n",
       "      <td>367.5</td>\n",
       "      <td>220.50</td>\n",
       "      <td>3.5</td>\n",
       "      <td>5.0</td>\n",
       "      <td>0.4</td>\n",
       "      <td>5.0</td>\n",
       "      <td>16.64</td>\n",
       "      <td>16.03</td>\n",
       "    </tr>\n",
       "  </tbody>\n",
       "</table>\n",
       "<p>768 rows × 10 columns</p>\n",
       "</div>"
      ],
      "text/plain": [
       "     Relative_Compactness  Surface_Area  Wall_Area  Roof_Area  Overall_Height  \\\n",
       "0                    0.98         514.5      294.0     110.25             7.0   \n",
       "1                    0.98         514.5      294.0     110.25             7.0   \n",
       "2                    0.98         514.5      294.0     110.25             7.0   \n",
       "3                    0.98         514.5      294.0     110.25             7.0   \n",
       "4                    0.90         563.5      318.5     122.50             7.0   \n",
       "..                    ...           ...        ...        ...             ...   \n",
       "763                  0.64         784.0      343.0     220.50             3.5   \n",
       "764                  0.62         808.5      367.5     220.50             3.5   \n",
       "765                  0.62         808.5      367.5     220.50             3.5   \n",
       "766                  0.62         808.5      367.5     220.50             3.5   \n",
       "767                  0.62         808.5      367.5     220.50             3.5   \n",
       "\n",
       "     Orientation  Glazing_Area  Glazing_Area_Distribution  Heating_Load  \\\n",
       "0            2.0           0.0                        0.0         15.55   \n",
       "1            3.0           0.0                        0.0         15.55   \n",
       "2            4.0           0.0                        0.0         15.55   \n",
       "3            5.0           0.0                        0.0         15.55   \n",
       "4            2.0           0.0                        0.0         20.84   \n",
       "..           ...           ...                        ...           ...   \n",
       "763          5.0           0.4                        5.0         17.88   \n",
       "764          2.0           0.4                        5.0         16.54   \n",
       "765          3.0           0.4                        5.0         16.44   \n",
       "766          4.0           0.4                        5.0         16.48   \n",
       "767          5.0           0.4                        5.0         16.64   \n",
       "\n",
       "     Cooling_Load  \n",
       "0           21.33  \n",
       "1           21.33  \n",
       "2           21.33  \n",
       "3           21.33  \n",
       "4           28.28  \n",
       "..            ...  \n",
       "763         21.40  \n",
       "764         16.88  \n",
       "765         17.11  \n",
       "766         16.61  \n",
       "767         16.03  \n",
       "\n",
       "[768 rows x 10 columns]"
      ]
     },
     "execution_count": 6,
     "metadata": {},
     "output_type": "execute_result"
    }
   ],
   "source": [
    "# Renaming the columns\n",
    "df_energy.rename(columns=Dictionary)"
   ]
  },
  {
   "cell_type": "code",
   "execution_count": 7,
   "id": "e0d87288",
   "metadata": {},
   "outputs": [],
   "source": [
    "# Storing the renamed columns in a variable\n",
    "df_energy=df_energy.rename(columns=Dictionary)"
   ]
  },
  {
   "cell_type": "code",
   "execution_count": 8,
   "id": "55596fc2",
   "metadata": {},
   "outputs": [],
   "source": [
    "# Store all the target values in a variable\n",
    "df_target = df_energy['Heating_Load']"
   ]
  },
  {
   "cell_type": "code",
   "execution_count": 9,
   "id": "b510ea63",
   "metadata": {},
   "outputs": [],
   "source": [
    "# Store all the other values in a variable\n",
    "df_feature = df_energy.drop('Heating_Load', axis=1)"
   ]
  },
  {
   "cell_type": "code",
   "execution_count": 10,
   "id": "391f8d99",
   "metadata": {},
   "outputs": [],
   "source": [
    "# Scalling the data\n",
    "# import the standard scalar\n",
    "from sklearn.preprocessing import StandardScaler"
   ]
  },
  {
   "cell_type": "code",
   "execution_count": 11,
   "id": "9c6cb0c4",
   "metadata": {},
   "outputs": [],
   "source": [
    "# Separating the feature variable and target variable\n",
    "x = df_energy.drop(columns = ['Heating_Load'])\n",
    "y = df_energy['Heating_Load']"
   ]
  },
  {
   "cell_type": "code",
   "execution_count": 12,
   "id": "2287e49f",
   "metadata": {},
   "outputs": [],
   "source": [
    "# Scale the feature\n",
    "scaler = StandardScaler()\n",
    "x_scaled = scaler.fit_transform(x)"
   ]
  },
  {
   "cell_type": "code",
   "execution_count": 13,
   "id": "97e2729b",
   "metadata": {},
   "outputs": [],
   "source": [
    "# Split the data for training and testing\n",
    "\n",
    "# Import the required package\n",
    "from sklearn.model_selection import train_test_split"
   ]
  },
  {
   "cell_type": "code",
   "execution_count": 14,
   "id": "22580f68",
   "metadata": {},
   "outputs": [],
   "source": [
    "# Split the data set\n",
    "x_train,x_test,y_train,y_test = train_test_split(x_scaled,y,test_size=0.2,random_state=42)"
   ]
  },
  {
   "cell_type": "markdown",
   "id": "850305df",
   "metadata": {},
   "source": [
    "## Random Forest Regressor"
   ]
  },
  {
   "cell_type": "code",
   "execution_count": 22,
   "id": "2615fde9",
   "metadata": {},
   "outputs": [],
   "source": [
    "# Import the packages\n",
    "from sklearn.ensemble import RandomForestRegressor\n",
    "from sklearn.metrics import mean_absolute_error, mean_squared_error, r2_score"
   ]
  },
  {
   "cell_type": "code",
   "execution_count": 23,
   "id": "acc3a881",
   "metadata": {},
   "outputs": [],
   "source": [
    "# Define the model\n",
    "rf_model = RandomForestRegressor()\n",
    "rf_model.fit(x_train, y_train)\n",
    "rf_predicted = rf_model.predict(x_test)"
   ]
  },
  {
   "cell_type": "code",
   "execution_count": 24,
   "id": "8a0f8e12",
   "metadata": {},
   "outputs": [
    {
     "name": "stdout",
     "output_type": "stream",
     "text": [
      "Random Forest of mean absolute error: 0.4515759740259772\n"
     ]
    }
   ],
   "source": [
    "# Show the predicted value of the experiment preformed\n",
    "print(\"Random Forest of mean absolute error:\", mean_absolute_error(y_test, rf_predicted))"
   ]
  }
 ],
 "metadata": {
  "kernelspec": {
   "display_name": "Python 3 (ipykernel)",
   "language": "python",
   "name": "python3"
  },
  "language_info": {
   "codemirror_mode": {
    "name": "ipython",
    "version": 3
   },
   "file_extension": ".py",
   "mimetype": "text/x-python",
   "name": "python",
   "nbconvert_exporter": "python",
   "pygments_lexer": "ipython3",
   "version": "3.11.5"
  }
 },
 "nbformat": 4,
 "nbformat_minor": 5
}
